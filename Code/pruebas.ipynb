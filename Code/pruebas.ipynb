{
 "cells": [
  {
   "cell_type": "code",
   "execution_count": 1,
   "metadata": {
    "collapsed": true
   },
   "outputs": [],
   "source": [
    "# from pandas import read_csv\n",
    "import pandas as pd\n",
    "from pyarrow import feather\n",
    "\n",
    "from matplotlib.figure import Figure\n",
    "import matplotlib.pyplot as plt\n"
   ]
  },
  {
   "cell_type": "code",
   "execution_count": 2,
   "metadata": {
    "collapsed": false,
    "pycharm": {
     "name": "#%%\n"
    }
   },
   "outputs": [
    {
     "name": "stdout",
     "output_type": "stream",
     "text": [
      "          LONG\n",
      "0   -74.807772\n",
      "1   -74.807710\n",
      "2   -74.807850\n",
      "3   -74.810293\n",
      "4   -74.813845\n",
      "..         ...\n",
      "108 -74.811547\n",
      "109 -74.808043\n",
      "110 -74.807816\n",
      "111 -74.808373\n",
      "112 -74.808374\n",
      "\n",
      "[113 rows x 1 columns]\n"
     ]
    }
   ],
   "source": [
    "csv_file = 'C:/Users/jabac/OneDrive - Universidad del Norte/Documentos/Tareas/Proyecto final/Scripts/Repositorio/Proyecto-Final/Route/U30/ROUTE U30.csv'\n",
    "\n",
    "try:\n",
    "    routeData = pd.read_csv(csv_file)\n",
    "    routeData.to_feather('ROUTE U30.feather')\n",
    "    #Read feather file\n",
    "    routeData = pd.read_feather('ROUTE U30.feather')\n",
    "except Exception as ex:\n",
    "    print(ex)\n",
    "    print('Not a valid data vector')\n",
    "    routeData = None\n",
    "print(routeData[['LONG']])"
   ]
  },
  {
   "cell_type": "code",
   "execution_count": 13,
   "metadata": {
    "collapsed": false,
    "pycharm": {
     "name": "#%%\n"
    }
   },
   "outputs": [
    {
     "name": "stdout",
     "output_type": "stream",
     "text": [
      "['S1-S2', 'S2-S3', 'S3-S4', 'S4-S5', 'S5-S6', 'S6-S7', 'S7-S8', 'S8-S9', 'S9-S10', 'S10-S11', 'S11-S12', 'S12-S13', 'S13-S14', 'S14-S15', 'S15-S16', 'S16-S17', 'S17-S18', 'S18-S19', 'S19-S20', 'S20-S21', 'S21-S22', 'S22-S23', 'S23-S24', 'S24-S25', 'S25-S26', 'S26-S27', 'S27-S28', 'S28-S29', 'S29-S30', 'S30-S31', 'S31-S32', 'S32-S33', 'S33-S34', 'S34-S35']\n"
     ]
    }
   ],
   "source": [
    "long = routeData[['LONG']].iloc[:, -1].values\n",
    "lat = routeData[['LAT']].iloc[:,-1].values\n",
    "label = routeData[['LABEL']].iloc[:, -1].values\n",
    "stop_list = [label[i] for i in range(len(label)) if label[i] is not None]\n",
    "charger_sections = [f\"{stop_list[i]}-{stop_list[i+1]}\" for i in range(len(stop_list)-1)]\n",
    "print(charger_sections)"
   ]
  },
  {
   "cell_type": "code",
   "execution_count": 4,
   "outputs": [
    {
     "data": {
      "text/plain": "<Figure size 360x288 with 1 Axes>",
      "image/png": "[encoded data removed]"
     },
     "metadata": {
      "needs_background": "light"
     },
     "output_type": "display_data"
    }
   ],
   "source": [
    "fig = plt.figure(figsize =(5, 4))\n",
    "\n",
    "ax = fig.add_subplot(111)\n",
    "\n",
    "ax.plot(long, lat)\n",
    "\n",
    "fig.suptitle('matplotlib.figure.Figure() class Example\\n\\n',\n",
    "             fontweight =\"bold\")\n",
    "\n",
    "plt.show()"
   ],
   "metadata": {
    "collapsed": false,
    "pycharm": {
     "name": "#%%\n"
    }
   }
  },
  {
   "cell_type": "code",
   "execution_count": 4,
   "outputs": [
    {
     "name": "stdout",
     "output_type": "stream",
     "text": [
      "Hola\n"
     ]
    }
   ],
   "source": [
    "element = 2\n",
    "if ((idx := element) in [2, 3, 4]) or ((suma := 5+5) < 3):\n",
    "    print('Hola')\n",
    "else:\n",
    "    print(idx)\n",
    "    print(suma)"
   ],
   "metadata": {
    "collapsed": false,
    "pycharm": {
     "name": "#%%\n"
    }
   }
  },
  {
   "cell_type": "code",
   "execution_count": 29,
   "outputs": [
    {
     "name": "stdout",
     "output_type": "stream",
     "text": [
      "C:\\Users\\jabac\\OneDrive - Universidad del Norte\\Documentos\\Tareas\\Proyecto final\\Scripts\\Repositorio\\Proyecto-Final\\Code\n",
      "C:\\Users\\jabac\\OneDrive - Universidad del Norte\\Documentos\\Tareas\\Proyecto final\\Scripts\\Repositorio\\Proyecto-Final\n",
      "C:\\Users\\jabac\\OneDrive - Universidad del Norte\\Documentos\\Tareas\\Proyecto final\\Scripts\\Repositorio\\Proyecto-Final\\UI\n"
     ]
    }
   ],
   "source": [
    "from pathlib import Path\n",
    "\n",
    "path_code = Path.cwd()\n",
    "print(path_code)\n",
    "path_parent = path_code.parent\n",
    "print(path_parent)\n",
    "path_UI = Path(path_parent, \"UI\")\n",
    "print(path_UI)"
   ],
   "metadata": {
    "collapsed": false,
    "pycharm": {
     "name": "#%%\n"
    }
   }
  },
  {
   "cell_type": "code",
   "execution_count": 32,
   "outputs": [
    {
     "name": "stdout",
     "output_type": "stream",
     "text": [
      "C:\\Users\\jabac\\OneDrive - Universidad del Norte\\Documentos\\Tareas\\Proyecto final\\Scripts\\Repositorio\\Proyecto-Final\\Code\n"
     ]
    },
    {
     "data": {
      "text/plain": "'C:/Users/jabac/OneDrive - Universidad del Norte/Documentos/Tareas/Proyecto final/Scripts/Repositorio/Proyecto-Final/Code'"
     },
     "execution_count": 32,
     "metadata": {},
     "output_type": "execute_result"
    }
   ],
   "source": [
    "path_code = str(path_code)\n",
    "print(path_code)\n",
    "path_code.replace('\\\\','/')"
   ],
   "metadata": {
    "collapsed": false,
    "pycharm": {
     "name": "#%%\n"
    }
   }
  },
  {
   "cell_type": "code",
   "execution_count": 34,
   "outputs": [
    {
     "name": "stdout",
     "output_type": "stream",
     "text": [
      "C:\\Users\\jabac\\OneDrive - Universidad del Norte\\Documentos\\Tareas\\Proyecto final\\Scripts\\Repositorio\\Proyecto-Final\\TestCase\\i37Bus\\ieee37.dss\n"
     ]
    }
   ],
   "source": [
    "path_ieee37 = Path(path_parent, \"TestCase\", \"i37Bus\", \"ieee37.dss\")\n",
    "print(path_ieee37)"
   ],
   "metadata": {
    "collapsed": false,
    "pycharm": {
     "name": "#%%\n"
    }
   }
  },
  {
   "cell_type": "code",
   "execution_count": 35,
   "outputs": [
    {
     "name": "stdout",
     "output_type": "stream",
     "text": [
      "C:/Users/57301/Documents/U/202210/Proyecto final/Proyecto-Final-main/TestCase/i37Bus/ieee37\n"
     ]
    }
   ],
   "source": [
    "Path='C:/Users/57301/Documents/U/202210/Proyecto final/Proyecto-Final-main/TestCase/i37Bus'\n",
    "Path_Complete=Path+'/ieee37'\n",
    "print(Path_Complete)"
   ],
   "metadata": {
    "collapsed": false,
    "pycharm": {
     "name": "#%%\n"
    }
   }
  },
  {
   "cell_type": "code",
   "execution_count": null,
   "outputs": [],
   "source": [],
   "metadata": {
    "collapsed": false,
    "pycharm": {
     "name": "#%%\n"
    }
   }
  }
 ],
 "metadata": {
  "kernelspec": {
   "display_name": "Python 3",
   "language": "python",
   "name": "python3"
  },
  "language_info": {
   "codemirror_mode": {
    "name": "ipython",
    "version": 2
   },
   "file_extension": ".py",
   "mimetype": "text/x-python",
   "name": "python",
   "nbconvert_exporter": "python",
   "pygments_lexer": "ipython2",
   "version": "2.7.6"
  }
 },
 "nbformat": 4,
 "nbformat_minor": 0
}