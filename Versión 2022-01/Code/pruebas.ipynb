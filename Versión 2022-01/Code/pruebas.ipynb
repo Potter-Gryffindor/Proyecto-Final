{
 "cells": [
  {
   "cell_type": "code",
   "execution_count": 1,
   "metadata": {
    "collapsed": true,
    "pycharm": {
     "name": "#%%\n"
    }
   },
   "outputs": [],
   "source": [
    "# from pandas import read_csv\n",
    "import pandas as pd\n",
    "from pyarrow import feather\n",
    "\n",
    "from matplotlib.figure import Figure\n",
    "import matplotlib.pyplot as plt\n"
   ]
  },
  {
   "cell_type": "code",
   "execution_count": 2,
   "metadata": {
    "collapsed": false,
    "pycharm": {
     "name": "#%%\n"
    }
   },
   "outputs": [
    {
     "name": "stdout",
     "output_type": "stream",
     "text": [
      "          LONG\n",
      "0   -74.807772\n",
      "1   -74.807710\n",
      "2   -74.807850\n",
      "3   -74.810293\n",
      "4   -74.813845\n",
      "..         ...\n",
      "108 -74.811547\n",
      "109 -74.808043\n",
      "110 -74.807816\n",
      "111 -74.808373\n",
      "112 -74.808374\n",
      "\n",
      "[113 rows x 1 columns]\n"
     ]
    }
   ],
   "source": [
    "csv_file = 'C:/Users/jabac/OneDrive - Universidad del Norte/Documentos/Tareas/Proyecto final/Scripts/Repositorio/Proyecto-Final/Route/U30/ROUTE U30.csv'\n",
    "\n",
    "try:\n",
    "    routeData = pd.read_csv(csv_file)\n",
    "    routeData.to_feather('ROUTE U30.feather')\n",
    "    #Read feather file\n",
    "    routeData = pd.read_feather('ROUTE U30.feather')\n",
    "except Exception as ex:\n",
    "    print(ex)\n",
    "    print('Not a valid data vector')\n",
    "    routeData = None\n",
    "print(routeData[['LONG']])"
   ]
  },
  {
   "cell_type": "code",
   "execution_count": 13,
   "metadata": {
    "collapsed": false,
    "pycharm": {
     "name": "#%%\n"
    }
   },
   "outputs": [
    {
     "name": "stdout",
     "output_type": "stream",
     "text": [
      "['S1-S2', 'S2-S3', 'S3-S4', 'S4-S5', 'S5-S6', 'S6-S7', 'S7-S8', 'S8-S9', 'S9-S10', 'S10-S11', 'S11-S12', 'S12-S13', 'S13-S14', 'S14-S15', 'S15-S16', 'S16-S17', 'S17-S18', 'S18-S19', 'S19-S20', 'S20-S21', 'S21-S22', 'S22-S23', 'S23-S24', 'S24-S25', 'S25-S26', 'S26-S27', 'S27-S28', 'S28-S29', 'S29-S30', 'S30-S31', 'S31-S32', 'S32-S33', 'S33-S34', 'S34-S35']\n"
     ]
    }
   ],
   "source": [
    "long = routeData[['LONG']].iloc[:, -1].values\n",
    "lat = routeData[['LAT']].iloc[:,-1].values\n",
    "label = routeData[['LABEL']].iloc[:, -1].values\n",
    "stop_list = [label[i] for i in range(len(label)) if label[i] is not None]\n",
    "charger_sections = [f\"{stop_list[i]}-{stop_list[i+1]}\" for i in range(len(stop_list)-1)]\n",
    "print(charger_sections)"
   ]
  },
  {
   "cell_type": "code",
   "execution_count": 4,
   "outputs": [
    {
     "data": {
      "text/plain": "<Figure size 360x288 with 1 Axes>",
      "image/png": "[encoded data removed]"
     },
     "metadata": {
      "needs_background": "light"
     },
     "output_type": "display_data"
    }
   ],
   "source": [
    "fig = plt.figure(figsize =(5, 4))\n",
    "\n",
    "ax = fig.add_subplot(111)\n",
    "\n",
    "ax.plot(long, lat)\n",
    "\n",
    "fig.suptitle('matplotlib.figure.Figure() class Example\\n\\n',\n",
    "             fontweight =\"bold\")\n",
    "\n",
    "plt.show()"
   ],
   "metadata": {
    "collapsed": false,
    "pycharm": {
     "name": "#%%\n"
    }
   }
  },
  {
   "cell_type": "code",
   "execution_count": 4,
   "outputs": [
    {
     "name": "stdout",
     "output_type": "stream",
     "text": [
      "Hola\n"
     ]
    }
   ],
   "source": [
    "element = 2\n",
    "if ((idx := element) in [2, 3, 4]) or ((suma := 5+5) < 3):\n",
    "    print('Hola')\n",
    "else:\n",
    "    print(idx)\n",
    "    print(suma)"
   ],
   "metadata": {
    "collapsed": false,
    "pycharm": {
     "name": "#%%\n"
    }
   }
  },
  {
   "cell_type": "code",
   "execution_count": 29,
   "outputs": [
    {
     "name": "stdout",
     "output_type": "stream",
     "text": [
      "C:\\Users\\jabac\\OneDrive - Universidad del Norte\\Documentos\\Tareas\\Proyecto final\\Scripts\\Repositorio\\Proyecto-Final\\Code\n",
      "C:\\Users\\jabac\\OneDrive - Universidad del Norte\\Documentos\\Tareas\\Proyecto final\\Scripts\\Repositorio\\Proyecto-Final\n",
      "C:\\Users\\jabac\\OneDrive - Universidad del Norte\\Documentos\\Tareas\\Proyecto final\\Scripts\\Repositorio\\Proyecto-Final\\UI\n"
     ]
    }
   ],
   "source": [
    "from pathlib import Path\n",
    "\n",
    "path_code = Path.cwd()\n",
    "print(path_code)\n",
    "path_parent = path_code.parent\n",
    "print(path_parent)\n",
    "path_UI = Path(path_parent, \"UI\")\n",
    "print(path_UI)"
   ],
   "metadata": {
    "collapsed": false,
    "pycharm": {
     "name": "#%%\n"
    }
   }
  },
  {
   "cell_type": "code",
   "execution_count": 32,
   "outputs": [
    {
     "name": "stdout",
     "output_type": "stream",
     "text": [
      "C:\\Users\\jabac\\OneDrive - Universidad del Norte\\Documentos\\Tareas\\Proyecto final\\Scripts\\Repositorio\\Proyecto-Final\\Code\n"
     ]
    },
    {
     "data": {
      "text/plain": "'C:/Users/jabac/OneDrive - Universidad del Norte/Documentos/Tareas/Proyecto final/Scripts/Repositorio/Proyecto-Final/Code'"
     },
     "execution_count": 32,
     "metadata": {},
     "output_type": "execute_result"
    }
   ],
   "source": [
    "path_code = str(path_code)\n",
    "print(path_code)\n",
    "path_code.replace('\\\\','/')"
   ],
   "metadata": {
    "collapsed": false,
    "pycharm": {
     "name": "#%%\n"
    }
   }
  },
  {
   "cell_type": "code",
   "execution_count": 34,
   "outputs": [
    {
     "name": "stdout",
     "output_type": "stream",
     "text": [
      "C:\\Users\\jabac\\OneDrive - Universidad del Norte\\Documentos\\Tareas\\Proyecto final\\Scripts\\Repositorio\\Proyecto-Final\\TestCase\\i37Bus\\ieee37.dss\n"
     ]
    }
   ],
   "source": [
    "path_ieee37 = Path(path_parent, \"TestCase\", \"i37Bus\", \"ieee37.dss\")\n",
    "print(path_ieee37)"
   ],
   "metadata": {
    "collapsed": false,
    "pycharm": {
     "name": "#%%\n"
    }
   }
  },
  {
   "cell_type": "code",
   "execution_count": 35,
   "outputs": [
    {
     "name": "stdout",
     "output_type": "stream",
     "text": [
      "C:/Users/57301/Documents/U/202210/Proyecto final/Proyecto-Final-main/TestCase/i37Bus/ieee37\n"
     ]
    }
   ],
   "source": [
    "Path='C:/Users/57301/Documents/U/202210/Proyecto final/Proyecto-Final-main/TestCase/i37Bus'\n",
    "Path_Complete=Path+'/ieee37'\n",
    "print(Path_Complete)"
   ],
   "metadata": {
    "collapsed": false,
    "pycharm": {
     "name": "#%%\n"
    }
   }
  },
  {
   "cell_type": "code",
   "execution_count": 37,
   "outputs": [
    {
     "name": "stdout",
     "output_type": "stream",
     "text": [
      "Redirect (C:/Users/57301/Documents/U/202210/Proyecto final/Proyecto-Final-main/TestCase/i37Bus/ieee37)\n"
     ]
    }
   ],
   "source": [
    "print(f'Redirect ({Path_Complete})')"
   ],
   "metadata": {
    "collapsed": false,
    "pycharm": {
     "name": "#%%\n"
    }
   }
  },
  {
   "cell_type": "code",
   "execution_count": 2,
   "outputs": [
    {
     "name": "stdout",
     "output_type": "stream",
     "text": [
      "[0.0, 0.0, 0.0, 0.0, 0.0, 0.0, 0.0, 0.0, 0.0, 0.0, 0.0, 0.0, 0.0, 0.0, 0.0, 0.0, 0.0, 0.0, 0.0, 0.0, 0.0, 0.0, 0.0, 0.0, 0.0, 0.0, 0.0, 0.0, 0.0, 0.0, 0.0, 0.0, 0.0, 0.0, 0.0, 0.0, 0.0, 0.0, 0.0, 0.0, 0.0, 0.0, 0.0, 0.0, 0.0, 0.0, 0.0, 0.0, 0.0, 0.0, 0.0, 0.0, 0.0, 0.0, 0.0, 0.0, 0.0, 0.0, 0.0, 0.0, 0.0, 0.0, 0.0, 0.0, 0.0, 0.0, 0.0, 0.0, 0.0, 0.0, 0.0, 0.0, 0.0, 0.0, 0.0, 0.0, 0.0, 0.0, 0.0, 0.0, 0.0, 0.0, 0.0, 0.0, 0.0, 0.0, 0.0, 0.0, 0.0, 0.0, 0.0, 0.0, 0.0, 0.0, 0.0, 0.0, 0.0, 0.0, 0.0, 0.0, 0.0, 0.0, 0.0, 0.0, 0.0, 0.0, 0.0, 0.0, 0.0, 0.0, 0.0, 0.0, 0.0, 0.0, 0.0, 0.0, 0.0, 0.0, 0.0, 0.0, 0.0, 0.0, 0.0, 0.0, 0.0, 0.0, 0.0, 0.0, 0.0, 0.0, 0.0, 0.0, 0.0, 0.0, 0.0, 0.0, 0.0, 0.0, 0.0, 0.0, 0.0, 0.0, 0.0, 0.0, 0.0, 0.0, 0.0, 0.0, 0.0, 0.0, 0.0, 0.0, 0.0, 0.0, 0.0, 0.0, 0.0, 0.0, 0.0, 0.0, 0.0, 0.0, 0.0, 0.0, 0.0, 0.0, 0.0, 0.0, 0.0, 0.0, 0.0, 0.0, 0.0, 0.0, 0.0, 0.0, 0.0, 0.0, 0.0, 0.0, 0.0, 0.0, 0.0, 0.0, 0.0, 0.0, 0.0, 0.0, 0.0, 0.0, 0.0, 0.0, 0.0, 0.0, 0.0, 0.0, 0.0, 0.0, 0.0, 0.0, 0.0, 0.0, 0.0, 0.0, 0.0, 0.0, 0.0, 0.0, 0.0, 0.0, 0.0, 0.0, 0.0, 0.0, 0.0, 0.0, 0.0, 0.0, 0.0, 0.0, 0.0, 0.0, 0.0, 0.0, 0.0, 0.0, 0.0, 0.0, 0.0, 0.0, 0.0, 0.0, 0.0, 0.0, 0.0, 0.0, 0.0, 0.0, 0.0, 0.0, 0.0, 0.0, 0.0, 0.0, 0.0, 0.0, 0.0, 0.0, 0.0, 0.0, 0.0, 0.0, 0.0, 0.0, 0.0, 0.0, 0.0, 0.0, 0.0, 0.0, 0.0, 0.0, 0.0, 0.0, 0.0, 0.0, 0.0, 0.0, 0.0, 0.0, 0.0, 0.0, 0.0, 0.0, 0.0, 0.0, 0.0, 0.0, 0.0, 0.0, 0.0, 0.0, 0.0, 0.0, 0.0, 0.0, 0.0, 0.0, 0.0, 0.0, 0.0, 0.0, 0.0, 0.0, 0.0, 0.0, 0.0, 0.0, 0.0, 0.0, 0.0, 0.0, 0.0, 0.0, 0.0, 0.0, 0.0, 0.0, 0.0, 0.0, 0.0, 0.0, 0.0, 0.0, 0.0, 0.0, 0.0, 0.0, 0.0, 0.0, 0.0, 0.0, 0.0, 0.0, 0.0, 0.0, 0.0, 0.0, 0.0, 0.0, 0.0, 0.0, 0.0, 0.0, 0.0, 0.0, 0.0, 0.0, 0.0, 0.0, 0.0, 0.0, 0.0, 0.0, 0.0, 0.0, 0.0, 0.0, 0.0, 0.0, 0.0, 0.0, 0.0, 0.0, 0.0, 0.0, 0.0, 0.0, 0.0, 0.0, 0.0, 0.0, 0.0, 0.0, 0.0, 0.0, 0.0, 0.0, 0.0, 0.0, 0.0, 0.0, 0.0, 0.0, 0.0, 0.0, 0.0, 0.0, 0.0, 0.0, 0.0, 0.0, 0.0, 0.0, 0.0, 0.0, 0.0, 0.0, 0.0, 0.0, 0.0, 0.0, 0.0, 0.0, 0.0, 0.0, 0.0, 0.0, 0.0, 0.0, 0.0, 0.0, 0.0, 0.0, 0.0, 0.0, 0.0, 0.0, 0.0, 0.0, 0.0, 0.0, 0.0, 0.0, 0.0, 0.0, 0.0, 0.0, 0.0, 0.0, 0.0, 0.0, 0.0, 0.0, 0.0, 0.0, 0.0, 0.0, 0.0, 0.0, 0.0, 0.0, 0.0, 0.0, 0.0, 0.0, 0.0, 0.0, 0.0, 0.0, 0.0, 0.0, 0.0, 0.0, 0.0, 0.0, 0.0, 0.0, 0.0, 0.0, 0.0, 0.0, 0.0, 0.0, 0.0, 0.0, 0.0, 0.0, 0.0, 0.0, 0.0, 0.0, 0.0, 0.0, 0.0, 0.0, 0.0, 0.0, 0.0, 0.0, 0.0, 0.0, 0.0, 0.0, 0.0, 0.0, 0.0, 0.0, 0.0, 0.0, 0.0, 0.0, 0.0, 0.0, 0.0, 0.0, 0.0, 0.0, 0.0, 0.0, 0.0, 0.0, 0.0, 0.0, 0.0, 0.0, 0.0, 0.0, 0.0, 0.0, 0.0, 0.0, 0.0, 0.0, 0.0, 0.0, 0.0, 0.0, 0.0, 0.0, 0.0, 0.0, 0.0, 0.0, 0.0, 0.0, 0.0, 0.0, 0.0, 0.0, 0.0, 0.0, 0.0, 0.0, 0.0, 0.0, 0.0, 0.0, 0.0, 0.0, 0.0, 0.0, 0.0, 0.0, 0.0, 0.0, 0.0, 0.0, 0.0, 0.0, 0.0, 0.0, 0.0, 0.0, 0.0, 0.0, 0.0, 0.0, 0.0, 0.0, 0.0, 0.0, 0.0, 0.0, 0.0, 0.0, 0.0, 0.0, 0.0, 0.0, 0.0, 0.0, 0.0, 0.0, 0.0, 0.0, 0.0, 0.0, 0.0, 0.0, 0.0, 0.0, 0.0, 0.0, 0.0, 0.0, 0.0, 0.0, 0.0, 0.0, 0.0, 0.0, 0.0, 0.0, 0.0, 0.0, 0.0, 0.0, 0.0, 0.0, 0.0, 0.0, 0.0, 0.0, 0.0, 0.0, 0.0, 0.0, 0.0, 0.0, 0.0, 0.0, 0.0, 0.0, 0.0, 0.0, 0.0, 0.0, 0.0, 0.0, 0.0, 0.0, 0.0, 0.0, 0.0, 0.0, 0.0, 0.0, 0.0, 0.0, 0.0, 0.0, 0.0, 0.0, 0.0, 0.0, 0.0, 0.0, 0.0, 0.0, 0.0, 0.0, 0.0, 0.0, 0.0, 0.0, 0.0, 0.0, 0.0, 0.0, 0.0, 0.0, 0.0, 0.0, 0.0, 0.0, 0.0, 0.0, 0.0, 0.0, 0.0, 0.0, 0.0, 0.0, 0.0, 0.0, 0.0, 0.0, 0.0, 0.0, 0.0, 0.0, 0.0, 0.0, 0.0, 0.0, 0.0, 0.0, 0.0, 0.0, 0.0, 0.0, 0.0, 0.0, 0.0, 0.0, 0.0, 0.0, 0.0, 0.0, 0.0, 0.0, 0.0, 0.0, 0.0, 0.0, 0.0, 0.0, 0.0, 0.0, 0.0, 0.0, 0.0, 0.0, 0.0, 0.0, 0.0, 0.0, 0.0, 0.0, 0.0, 0.0, 0.0, 0.0, 0.0, 0.0, 0.0, 0.0, 0.0, 0.0, 0.0, 0.0, 0.0, 0.0, 0.0, 0.0, 0.0, 0.0, 0.0, 0.0, 0.0, 0.0, 0.0, 0.0, 0.0, 0.0, 0.0, 0.0, 0.0, 0.0, 0.0, 0.0, 0.0, 0.0, 0.0, 0.0, 0.0, 0.0, 0.0, 0.0, 0.0, 0.0, 0.0, 0.0, 0.0, 0.0, 0.0, 0.0, 0.0, 0.0, 0.0, 0.0, 0.0, 0.0, 0.0, 0.0, 0.0, 0.0, 0.0, 0.0, 0.0, 0.0, 0.0, 0.0, 0.0, 0.0, 0.0, 0.0, 0.0, 0.0, 0.0, 0.0, 0.0, 0.0, 0.0, 0.0, 0.0, 0.0, 0.0, 0.0, 0.0, 0.0, 0.0, 0.0, 0.0, 0.0, 0.0, 0.0, 0.0, 0.0, 0.0, 0.0, 0.0, 0.0, 0.0, 0.0, 0.0, 0.0, 0.0, 0.0, 0.0, 0.0, 0.0, 0.0, 0.0, 0.0, 0.0, 0.0, 0.0, 0.0, 0.0, 0.0, 0.0, 0.0, 0.0, 0.0, 0.0, 0.0, 0.0, 0.0, 0.0, 0.0, 0.0, 0.0, 0.0, 0.0, 0.0, 0.0, 0.0, 0.0, 0.0, 0.0, 0.0, 0.0, 0.0, 0.0, 0.0, 0.0, 0.0, 0.0, 0.0, 0.0, 0.0, 0.0, 0.0, 0.0, 0.0, 0.0, 0.0, 0.0, 0.0, 0.0, 0.0, 0.0, 0.0, 0.0, 0.0, 0.0, 0.0, 0.0, 0.0, 0.0, 0.0, 0.0, 0.0, 0.0, 0.0, 0.0, 0.0, 0.0, 0.0, 0.0, 0.0, 0.0, 0.0, 0.0, 0.0, 0.0, 0.0, 0.0, 0.0, 0.0, 0.0, 0.0, 0.0, 0.0, 0.0, 0.0, 0.0, 0.0, 0.0, 0.0, 0.0, 0.0, 0.0, 0.0, 0.0, 0.0, 0.0, 0.0, 0.0, 0.0, 0.0, 0.0, 0.0, 0.0, 0.0, 0.0, 0.0, 0.0, 0.0, 0.0, 0.0, 0.0, 0.0, 0.0, 0.0, 0.0, 0.0, 0.0, 0.0, 0.0, 0.0, 0.0, 0.0, 0.0, 0.0, 0.0, 0.0, 0.0, 0.0, 0.0, 0.0, 0.0, 0.0, 0.0, 0.0, 0.0, 0.0, 0.0, 0.0, 0.0, 0.0, 0.0, 0.0, 0.0, 0.0, 0.0, 0.0, 0.0, 0.0, 0.0, 0.0, 0.0, 0.0, 0.0, 0.0, 0.0, 0.0, 0.0, 0.0, 0.0, 0.0, 0.0, 0.0, 0.0, 0.0, 0.0, 0.0, 0.0, 0.0, 0.0, 0.0, 0.0, 0.0, 0.0, 0.0, 0.0, 0.0, 0.0, 0.0, 0.0, 0.0, 0.0, 0.0, 0.0, 0.0, 0.0, 0.0, 0.0, 0.0, 0.0, 0.0, 0.0, 0.0, 0.0, 0.0, 0.0, 0.0, 0.0, 0.0, 0.0, 0.0, 0.0, 0.0, 0.0, 0.0, 0.0, 0.0, 0.0, 0.0, 0.0, 0.0, 0.0, 0.0, 0.0, 0.0, 0.0, 0.0, 0.0, 0.0, 0.0, 0.0, 0.0, 0.0, 0.0, 0.0, 0.0, 0.0, 0.0, 0.0, 0.0, 0.0, 0.0, 0.0, 0.0, 0.0, 0.0, 0.0, 0.0, 0.0, 0.0, 0.0, 0.0, 0.0, 0.0, 0.0, 0.0, 0.0, 0.0, 0.0, 0.0, 0.0, 0.0, 0.0, 0.0, 0.0, 0.0, 0.0, 0.0, 0.0, 0.0, 0.0, 0.0, 0.0, 0.0, 0.0, 0.0, 0.0, 0.0, 0.0, 0.0, 0.0, 0.0, 0.0, 0.0, 0.0, 0.0, 0.0, 0.0, 0.0, 0.0, 0.0, 0.0, 0.0, 0.0, 0.0, 0.0, 0.0, 0.0, 0.0, 0.0, 0.0, 0.0, 0.0, 0.0, 0.0, 0.0, 0.0, 0.0, 0.0, 0.0, 0.0, 0.0, 0.0, 0.0, 0.0, 0.0, 0.0, 0.0, 0.0, 0.0, 0.0, 0.0, 0.0, 0.0, 0.0, 0.0, 0.0, 0.0, 0.0, 0.0, 0.0, 0.0, 0.0, 0.0, 0.0, 0.0, 0.0, 0.0, 0.0, 0.0, 0.0, 0.0, 0.0, 0.0, 0.0, 0.0, 0.0, 0.0, 0.0, 0.0, 0.0, 0.0, 0.0, 0.0, 0.0, 0.0, 0.0, 0.0, 0.0, 0.0, 0.0, 0.0, 0.0, 0.0, 0.0, 0.0, 0.0, 0.0, 0.0, 0.0, 0.0, 0.0, 0.0, 0.0, 0.0, 0.0, 0.0, 0.0, 0.0, 0.0, 0.0, 0.0, 0.0, 0.0, 0.0, 0.0, 0.0, 0.0, 0.0, 0.0, 0.0, 0.0, 0.0, 0.0, 0.0, 0.0, 0.0, 0.0, 0.0, 0.0, 0.0, 0.0, 0.0, 0.0, 0.0, 0.0, 0.0, 0.0, 0.0, 0.0, 0.0, 0.0, 0.0, 0.0, 0.0, 0.0, 0.0, 0.0, 0.0, 0.0, 0.0, 0.0, 0.0, 0.0, 0.0, 0.0, 0.0, 0.0, 0.0, 0.0, 0.0, 0.0, 0.0, 0.0, 0.0, 0.0, 0.0, 0.0, 0.0, 0.0, 0.0, 0.0, 0.0, 0.0, 0.0, 0.0, 0.0, 0.0, 0.0, 0.0, 0.0, 0.0, 0.0, 0.0, 0.0, 0.0, 0.0, 0.0, 0.0, 0.0, 0.0, 0.0, 0.0, 0.0, 0.0, 0.0, 0.0, 0.0, 0.0, 0.0, 0.0, 0.0, 0.0, 0.0, 0.0, 0.0, 0.0, 0.0, 0.0, 0.0, 0.0, 0.0, 0.0, 0.0, 0.0, 0.0, 0.0, 0.0, 0.0, 0.0, 0.0, 0.0, 0.0, 0.0, 0.0, 0.0, 0.0, 0.0, 0.0, 0.0, 0.0, 0.0, 0.0, 0.0, 0.0, 0.0, 0.0, 0.0, 0.0, 0.0, 0.0, 0.0, 0.0, 0.0, 0.0, 0.0, 0.0, 0.0, 0.0, 0.0, 0.0, 0.0, 0.0, 0.0, 0.0, 0.0, 0.0, 0.0, 0.0, 0.0, 0.0, 0.0, 0.0, 0.0, 0.0, 0.0, 0.0, 0.0, 0.0, 0.0, 0.0, 0.0, 0.0, 0.0, 0.0, 0.0, 0.0, 0.0, 0.0, 0.0, 0.0, 0.0, 0.0, 0.0, 0.0, 0.0, 0.0, 0.0, 0.0, 0.0, 0.0, 0.0, 0.0, 0.0, 0.0, 0.0, 0.0, 0.0, 0.0, 0.0, 0.0, 0.0, 0.0, 0.0, 0.0, 0.0, 0.0, 0.0, 0.0, 0.0, 0.0, 0.0, 0.0, 0.0, 0.0, 0.0, 0.0, 0.0, 0.0, 0.0, 0.0, 0.0, 0.0, 0.0, 0.0, 0.0, 0.0, 0.0, 0.0, 0.0, 0.0, 0.0, 0.0, 0.0, 0.0, 0.0, 0.0, 0.0, 0.0, 0.0, 0.0, 0.0, 0.0, 0.0, 0.0, 0.0, 0.0, 0.0, 0.0, 0.0, 0.0, 0.0, 0.0, 0.0, 0.0, 0.0, 0.0, 0.0, 0.0, 0.0, 0.0, 0.0, 0.0, 0.0, 0.0, 0.0, 0.0, 0.0, 0.0, 0.0, 0.0, 0.0, 0.0, 0.0, 0.0, 0.0, 0.0, 0.0]\n"
     ]
    }
   ],
   "source": [
    "import numpy as np\n",
    "vect = list(np.zeros(1440))\n",
    "print(vect)"
   ],
   "metadata": {
    "collapsed": false,
    "pycharm": {
     "name": "#%%\n"
    }
   }
  },
  {
   "cell_type": "code",
   "execution_count": 3,
   "outputs": [
    {
     "name": "stdout",
     "output_type": "stream",
     "text": [
      "[0, 1, 2, 3, 4, 5, 6, 7, 8, 9, 10, 11, 12, 13, 14, 15, 16, 17, 18, 19, 20, 21, 22, 23]\n"
     ]
    }
   ],
   "source": [
    "tiempo = [hour for hour in range(24)]\n",
    "print(tiempo)"
   ],
   "metadata": {
    "collapsed": false,
    "pycharm": {
     "name": "#%%\n"
    }
   }
  },
  {
   "cell_type": "code",
   "execution_count": 6,
   "outputs": [
    {
     "name": "stdout",
     "output_type": "stream",
     "text": [
      "[0.25, 0.5, 1.0, 0.25]\n"
     ]
    }
   ],
   "source": [
    "import numpy as np\n",
    "v = [1,2,4,1]\n",
    "w = list(np.array(v)/max(v))\n",
    "print(w)"
   ],
   "metadata": {
    "collapsed": false,
    "pycharm": {
     "name": "#%%\n"
    }
   }
  },
  {
   "cell_type": "code",
   "execution_count": 5,
   "outputs": [
    {
     "name": "stdout",
     "output_type": "stream",
     "text": [
      "Hola Javier Hola\n"
     ]
    }
   ],
   "source": [
    "y = 'Hola'\n",
    "z = '{0} Javier {0}'.format(y)\n",
    "print(z)"
   ],
   "metadata": {
    "collapsed": false,
    "pycharm": {
     "name": "#%%\n"
    }
   }
  },
  {
   "cell_type": "code",
   "execution_count": null,
   "outputs": [],
   "source": [
    "from pathlib import Path\n",
    "import pandas as pd\n",
    "path_Code = Path.cwd()\n",
    "path_parent = path_Code.parent\n",
    "\n",
    "path_TestCase = Path(path_parent, \"TestCase\")\n",
    "ruta_file_dss = str(Path(path_TestCase, \"i37Bus\", \"ieee37.dss\"))\n",
    "system_name = ruta_file_dss.split('\\\\')[-1].split('.')[0]\n",
    "\n",
    "path_Results = Path(path_parent, \"Results\")\n",
    "voltages_bases_file = str(Path(path_Results,f'{system_name}_EXP_VOLTAGES.CSV'))\n",
    "try:\n",
    "    voltagesData = pd.read_csv(voltages_bases_file, usecols=(\"Bus\",\" BasekV\"))\n",
    "except Exception as ex:\n",
    "    print(ex)\n",
    "    print('Not a valid data vector')\n",
    "    voltagesData = None\n",
    "bases = list(voltagesData[[' BasekV']].iloc[:, -1].values)\n",
    "print(bases)\n",
    "print(type(bases[0]))"
   ],
   "metadata": {
    "collapsed": false,
    "pycharm": {
     "name": "#%%\n"
    }
   }
  },
  {
   "cell_type": "code",
   "execution_count": 56,
   "outputs": [
    {
     "name": "stdout",
     "output_type": "stream",
     "text": [
      "[2.0, 4.0, 6.0]\n",
      "<class 'numpy.float64'>\n",
      "[2.0, 4.0, 6.0]\n",
      "<class 'float'>\n"
     ]
    }
   ],
   "source": [
    "import numpy as np\n",
    "matriz = [[1.0,2.0], [3.0,4.0], [5.0,6.0]]\n",
    "x = np.array(matriz)\n",
    "maxC = list(x.max(axis=1, initial=None))\n",
    "print(maxC)\n",
    "print(type(maxC[0]))\n",
    "\n",
    "max_power_per_charger = [float(max_power) for max_power in maxC]\n",
    "print(max_power_per_charger)\n",
    "print(type(max_power_per_charger[0]))"
   ],
   "metadata": {
    "collapsed": false,
    "pycharm": {
     "name": "#%%\n"
    }
   }
  },
  {
   "cell_type": "code",
   "execution_count": 59,
   "outputs": [
    {
     "name": "stdout",
     "output_type": "stream",
     "text": [
      "[0.5        0.66666667 0.75      ]\n"
     ]
    }
   ],
   "source": [
    "lista1 = np.array([1,2,3])/np.array([2,3,4])\n",
    "print(lista1)"
   ],
   "metadata": {
    "collapsed": false,
    "pycharm": {
     "name": "#%%\n"
    }
   }
  },
  {
   "cell_type": "code",
   "execution_count": 43,
   "outputs": [
    {
     "name": "stdout",
     "output_type": "stream",
     "text": [
      "2022-06-22 00:00:00\n",
      "2022-06-22 00:00:00\n",
      "00:00\n",
      "<class 'str'>\n",
      "08:20\n",
      "[0.0, 60.0, 120.0, 180.0, 240.0, 300.0, 360.0, 420.0, 480.0, 540.0, 600.0, 660.0, 720.0, 780.0, 840.0, 900.0, 960.0, 1020.0, 1080.0, 1140.0, 1200.0, 1260.0, 1320.0, 1380.0, 1440.0, 1500.0, 1560.0, 1620.0, 1680.0, 1740.0, 1800.0, 1860.0, 1920.0, 1980.0, 2040.0, 2100.0, 2160.0, 2220.0, 2280.0, 2340.0, 2400.0, 2460.0, 2520.0, 2580.0, 2640.0, 2700.0, 2760.0, 2820.0, 2880.0, 2940.0, 3000.0, 3060.0, 3120.0, 3180.0, 3240.0, 3300.0, 3360.0, 3420.0, 3480.0, 3540.0, 3600.0, 3660.0, 3720.0, 3780.0, 3840.0, 3900.0, 3960.0, 4020.0, 4080.0, 4140.0, 4200.0, 4260.0, 4320.0, 4380.0, 4440.0, 4500.0, 4560.0, 4620.0, 4680.0, 4740.0, 4800.0, 4860.0, 4920.0, 4980.0, 5040.0, 5100.0, 5160.0, 5220.0, 5280.0, 5340.0, 5400.0, 5460.0, 5520.0, 5580.0, 5640.0, 5700.0, 5760.0, 5820.0, 5880.0, 5940.0, 6000.0, 6060.0, 6120.0, 6180.0, 6240.0, 6300.0, 6360.0, 6420.0, 6480.0, 6540.0, 6600.0, 6660.0, 6720.0, 6780.0, 6840.0, 6900.0, 6960.0, 7020.0, 7080.0, 7140.0, 7200.0, 7260.0, 7320.0, 7380.0, 7440.0, 7500.0, 7560.0, 7620.0, 7680.0, 7740.0, 7800.0, 7860.0, 7920.0, 7980.0, 8040.0, 8100.0, 8160.0, 8220.0, 8280.0, 8340.0, 8400.0, 8460.0, 8520.0, 8580.0, 8640.0, 8700.0, 8760.0, 8820.0, 8880.0, 8940.0, 9000.0, 9060.0, 9120.0, 9180.0, 9240.0, 9300.0, 9360.0, 9420.0, 9480.0, 9540.0, 9600.0, 9660.0, 9720.0, 9780.0, 9840.0, 9900.0, 9960.0, 10020.0, 10080.0, 10140.0, 10200.0, 10260.0, 10320.0, 10380.0, 10440.0, 10500.0, 10560.0, 10620.0, 10680.0, 10740.0, 10800.0, 10860.0, 10920.0, 10980.0, 11040.0, 11100.0, 11160.0, 11220.0, 11280.0, 11340.0, 11400.0, 11460.0, 11520.0, 11580.0, 11640.0, 11700.0, 11760.0, 11820.0, 11880.0, 11940.0, 12000.0, 12060.0, 12120.0, 12180.0, 12240.0, 12300.0, 12360.0, 12420.0, 12480.0, 12540.0, 12600.0, 12660.0, 12720.0, 12780.0, 12840.0, 12900.0, 12960.0, 13020.0, 13080.0, 13140.0, 13200.0, 13260.0, 13320.0, 13380.0, 13440.0, 13500.0, 13560.0, 13620.0, 13680.0, 13740.0, 13800.0, 13860.0, 13920.0, 13980.0, 14040.0, 14100.0, 14160.0, 14220.0, 14280.0, 14340.0, 14400.0, 14460.0, 14520.0, 14580.0, 14640.0, 14700.0, 14760.0, 14820.0, 14880.0, 14940.0, 15000.0, 15060.0, 15120.0, 15180.0, 15240.0, 15300.0, 15360.0, 15420.0, 15480.0, 15540.0, 15600.0, 15660.0, 15720.0, 15780.0, 15840.0, 15900.0, 15960.0, 16020.0, 16080.0, 16140.0, 16200.0, 16260.0, 16320.0, 16380.0, 16440.0, 16500.0, 16560.0, 16620.0, 16680.0, 16740.0, 16800.0, 16860.0, 16920.0, 16980.0, 17040.0, 17100.0, 17160.0, 17220.0, 17280.0, 17340.0, 17400.0, 17460.0, 17520.0, 17580.0, 17640.0, 17700.0, 17760.0, 17820.0, 17880.0, 17940.0, 18000.0, 18060.0, 18120.0, 18180.0, 18240.0, 18300.0, 18360.0, 18420.0, 18480.0, 18540.0, 18600.0, 18660.0, 18720.0, 18780.0, 18840.0, 18900.0, 18960.0, 19020.0, 19080.0, 19140.0, 19200.0, 19260.0, 19320.0, 19380.0, 19440.0, 19500.0, 19560.0, 19620.0, 19680.0, 19740.0, 19800.0, 19860.0, 19920.0, 19980.0, 20040.0, 20100.0, 20160.0, 20220.0, 20280.0, 20340.0, 20400.0, 20460.0, 20520.0, 20580.0, 20640.0, 20700.0, 20760.0, 20820.0, 20880.0, 20940.0, 21000.0, 21060.0, 21120.0, 21180.0, 21240.0, 21300.0, 21360.0, 21420.0, 21480.0, 21540.0, 21600.0, 21660.0, 21720.0, 21780.0, 21840.0, 21900.0, 21960.0, 22020.0, 22080.0, 22140.0, 22200.0, 22260.0, 22320.0, 22380.0, 22440.0, 22500.0, 22560.0, 22620.0, 22680.0, 22740.0, 22800.0, 22860.0, 22920.0, 22980.0, 23040.0, 23100.0, 23160.0, 23220.0, 23280.0, 23340.0, 23400.0, 23460.0, 23520.0, 23580.0, 23640.0, 23700.0, 23760.0, 23820.0, 23880.0, 23940.0, 24000.0, 24060.0, 24120.0, 24180.0, 24240.0, 24300.0, 24360.0, 24420.0, 24480.0, 24540.0, 24600.0, 24660.0, 24720.0, 24780.0, 24840.0, 24900.0, 24960.0, 25020.0, 25080.0, 25140.0, 25200.0, 25260.0, 25320.0, 25380.0, 25440.0, 25500.0, 25560.0, 25620.0, 25680.0, 25740.0, 25800.0, 25860.0, 25920.0, 25980.0, 26040.0, 26100.0, 26160.0, 26220.0, 26280.0, 26340.0, 26400.0, 26460.0, 26520.0, 26580.0, 26640.0, 26700.0, 26760.0, 26820.0, 26880.0, 26940.0, 27000.0, 27060.0, 27120.0, 27180.0, 27240.0, 27300.0, 27360.0, 27420.0, 27480.0, 27540.0, 27600.0, 27660.0, 27720.0, 27780.0, 27840.0, 27900.0, 27960.0, 28020.0, 28080.0, 28140.0, 28200.0, 28260.0, 28320.0, 28380.0, 28440.0, 28500.0, 28560.0, 28620.0, 28680.0, 28740.0, 28800.0, 28860.0, 28920.0, 28980.0, 29040.0, 29100.0, 29160.0, 29220.0, 29280.0, 29340.0, 29400.0, 29460.0, 29520.0, 29580.0, 29640.0, 29700.0, 29760.0, 29820.0, 29880.0, 29940.0, 30000.0, 30060.0, 30120.0, 30180.0, 30240.0, 30300.0, 30360.0, 30420.0, 30480.0, 30540.0, 30600.0, 30660.0, 30720.0, 30780.0, 30840.0, 30900.0, 30960.0, 31020.0, 31080.0, 31140.0, 31200.0, 31260.0, 31320.0, 31380.0, 31440.0, 31500.0, 31560.0, 31620.0, 31680.0, 31740.0, 31800.0, 31860.0, 31920.0, 31980.0, 32040.0, 32100.0, 32160.0, 32220.0, 32280.0, 32340.0, 32400.0, 32460.0, 32520.0, 32580.0, 32640.0, 32700.0, 32760.0, 32820.0, 32880.0, 32940.0, 33000.0, 33060.0, 33120.0, 33180.0, 33240.0, 33300.0, 33360.0, 33420.0, 33480.0, 33540.0, 33600.0, 33660.0, 33720.0, 33780.0, 33840.0, 33900.0, 33960.0, 34020.0, 34080.0, 34140.0, 34200.0, 34260.0, 34320.0, 34380.0, 34440.0, 34500.0, 34560.0, 34620.0, 34680.0, 34740.0, 34800.0, 34860.0, 34920.0, 34980.0, 35040.0, 35100.0, 35160.0, 35220.0, 35280.0, 35340.0, 35400.0, 35460.0, 35520.0, 35580.0, 35640.0, 35700.0, 35760.0, 35820.0, 35880.0, 35940.0, 36000.0, 36060.0, 36120.0, 36180.0, 36240.0, 36300.0, 36360.0, 36420.0, 36480.0, 36540.0, 36600.0, 36660.0, 36720.0, 36780.0, 36840.0, 36900.0, 36960.0, 37020.0, 37080.0, 37140.0, 37200.0, 37260.0, 37320.0, 37380.0, 37440.0, 37500.0, 37560.0, 37620.0, 37680.0, 37740.0, 37800.0, 37860.0, 37920.0, 37980.0, 38040.0, 38100.0, 38160.0, 38220.0, 38280.0, 38340.0, 38400.0, 38460.0, 38520.0, 38580.0, 38640.0, 38700.0, 38760.0, 38820.0, 38880.0, 38940.0, 39000.0, 39060.0, 39120.0, 39180.0, 39240.0, 39300.0, 39360.0, 39420.0, 39480.0, 39540.0, 39600.0, 39660.0, 39720.0, 39780.0, 39840.0, 39900.0, 39960.0, 40020.0, 40080.0, 40140.0, 40200.0, 40260.0, 40320.0, 40380.0, 40440.0, 40500.0, 40560.0, 40620.0, 40680.0, 40740.0, 40800.0, 40860.0, 40920.0, 40980.0, 41040.0, 41100.0, 41160.0, 41220.0, 41280.0, 41340.0, 41400.0, 41460.0, 41520.0, 41580.0, 41640.0, 41700.0, 41760.0, 41820.0, 41880.0, 41940.0, 42000.0, 42060.0, 42120.0, 42180.0, 42240.0, 42300.0, 42360.0, 42420.0, 42480.0, 42540.0, 42600.0, 42660.0, 42720.0, 42780.0, 42840.0, 42900.0, 42960.0, 43020.0, 43080.0, 43140.0, 43200.0, 43260.0, 43320.0, 43380.0, 43440.0, 43500.0, 43560.0, 43620.0, 43680.0, 43740.0, 43800.0, 43860.0, 43920.0, 43980.0, 44040.0, 44100.0, 44160.0, 44220.0, 44280.0, 44340.0, 44400.0, 44460.0, 44520.0, 44580.0, 44640.0, 44700.0, 44760.0, 44820.0, 44880.0, 44940.0, 45000.0, 45060.0, 45120.0, 45180.0, 45240.0, 45300.0, 45360.0, 45420.0, 45480.0, 45540.0, 45600.0, 45660.0, 45720.0, 45780.0, 45840.0, 45900.0, 45960.0, 46020.0, 46080.0, 46140.0, 46200.0, 46260.0, 46320.0, 46380.0, 46440.0, 46500.0, 46560.0, 46620.0, 46680.0, 46740.0, 46800.0, 46860.0, 46920.0, 46980.0, 47040.0, 47100.0, 47160.0, 47220.0, 47280.0, 47340.0, 47400.0, 47460.0, 47520.0, 47580.0, 47640.0, 47700.0, 47760.0, 47820.0, 47880.0, 47940.0, 48000.0, 48060.0, 48120.0, 48180.0, 48240.0, 48300.0, 48360.0, 48420.0, 48480.0, 48540.0, 48600.0, 48660.0, 48720.0, 48780.0, 48840.0, 48900.0, 48960.0, 49020.0, 49080.0, 49140.0, 49200.0, 49260.0, 49320.0, 49380.0, 49440.0, 49500.0, 49560.0, 49620.0, 49680.0, 49740.0, 49800.0, 49860.0, 49920.0, 49980.0, 50040.0, 50100.0, 50160.0, 50220.0, 50280.0, 50340.0, 50400.0, 50460.0, 50520.0, 50580.0, 50640.0, 50700.0, 50760.0, 50820.0, 50880.0, 50940.0, 51000.0, 51060.0, 51120.0, 51180.0, 51240.0, 51300.0, 51360.0, 51420.0, 51480.0, 51540.0, 51600.0, 51660.0, 51720.0, 51780.0, 51840.0, 51900.0, 51960.0, 52020.0, 52080.0, 52140.0, 52200.0, 52260.0, 52320.0, 52380.0, 52440.0, 52500.0, 52560.0, 52620.0, 52680.0, 52740.0, 52800.0, 52860.0, 52920.0, 52980.0, 53040.0, 53100.0, 53160.0, 53220.0, 53280.0, 53340.0, 53400.0, 53460.0, 53520.0, 53580.0, 53640.0, 53700.0, 53760.0, 53820.0, 53880.0, 53940.0, 54000.0, 54060.0, 54120.0, 54180.0, 54240.0, 54300.0, 54360.0, 54420.0, 54480.0, 54540.0, 54600.0, 54660.0, 54720.0, 54780.0, 54840.0, 54900.0, 54960.0, 55020.0, 55080.0, 55140.0, 55200.0, 55260.0, 55320.0, 55380.0, 55440.0, 55500.0, 55560.0, 55620.0, 55680.0, 55740.0, 55800.0, 55860.0, 55920.0, 55980.0, 56040.0, 56100.0, 56160.0, 56220.0, 56280.0, 56340.0, 56400.0, 56460.0, 56520.0, 56580.0, 56640.0, 56700.0, 56760.0, 56820.0, 56880.0, 56940.0, 57000.0, 57060.0, 57120.0, 57180.0, 57240.0, 57300.0, 57360.0, 57420.0, 57480.0, 57540.0, 57600.0, 57660.0, 57720.0, 57780.0, 57840.0, 57900.0, 57960.0, 58020.0, 58080.0, 58140.0, 58200.0, 58260.0, 58320.0, 58380.0, 58440.0, 58500.0, 58560.0, 58620.0, 58680.0, 58740.0, 58800.0, 58860.0, 58920.0, 58980.0, 59040.0, 59100.0, 59160.0, 59220.0, 59280.0, 59340.0, 59400.0, 59460.0, 59520.0, 59580.0, 59640.0, 59700.0, 59760.0, 59820.0, 59880.0, 59940.0, 60000.0, 60060.0, 60120.0, 60180.0, 60240.0, 60300.0, 60360.0, 60420.0, 60480.0, 60540.0, 60600.0, 60660.0, 60720.0, 60780.0, 60840.0, 60900.0, 60960.0, 61020.0, 61080.0, 61140.0, 61200.0, 61260.0, 61320.0, 61380.0, 61440.0, 61500.0, 61560.0, 61620.0, 61680.0, 61740.0, 61800.0, 61860.0, 61920.0, 61980.0, 62040.0, 62100.0, 62160.0, 62220.0, 62280.0, 62340.0, 62400.0, 62460.0, 62520.0, 62580.0, 62640.0, 62700.0, 62760.0, 62820.0, 62880.0, 62940.0, 63000.0, 63060.0, 63120.0, 63180.0, 63240.0, 63300.0, 63360.0, 63420.0, 63480.0, 63540.0, 63600.0, 63660.0, 63720.0, 63780.0, 63840.0, 63900.0, 63960.0, 64020.0, 64080.0, 64140.0, 64200.0, 64260.0, 64320.0, 64380.0, 64440.0, 64500.0, 64560.0, 64620.0, 64680.0, 64740.0, 64800.0, 64860.0, 64920.0, 64980.0, 65040.0, 65100.0, 65160.0, 65220.0, 65280.0, 65340.0, 65400.0, 65460.0, 65520.0, 65580.0, 65640.0, 65700.0, 65760.0, 65820.0, 65880.0, 65940.0, 66000.0, 66060.0, 66120.0, 66180.0, 66240.0, 66300.0, 66360.0, 66420.0, 66480.0, 66540.0, 66600.0, 66660.0, 66720.0, 66780.0, 66840.0, 66900.0, 66960.0, 67020.0, 67080.0, 67140.0, 67200.0, 67260.0, 67320.0, 67380.0, 67440.0, 67500.0, 67560.0, 67620.0, 67680.0, 67740.0, 67800.0, 67860.0, 67920.0, 67980.0, 68040.0, 68100.0, 68160.0, 68220.0, 68280.0, 68340.0, 68400.0, 68460.0, 68520.0, 68580.0, 68640.0, 68700.0, 68760.0, 68820.0, 68880.0, 68940.0, 69000.0, 69060.0, 69120.0, 69180.0, 69240.0, 69300.0, 69360.0, 69420.0, 69480.0, 69540.0, 69600.0, 69660.0, 69720.0, 69780.0, 69840.0, 69900.0, 69960.0, 70020.0, 70080.0, 70140.0, 70200.0, 70260.0, 70320.0, 70380.0, 70440.0, 70500.0, 70560.0, 70620.0, 70680.0, 70740.0, 70800.0, 70860.0, 70920.0, 70980.0, 71040.0, 71100.0, 71160.0, 71220.0, 71280.0, 71340.0, 71400.0, 71460.0, 71520.0, 71580.0, 71640.0, 71700.0, 71760.0, 71820.0, 71880.0, 71940.0, 72000.0, 72060.0, 72120.0, 72180.0, 72240.0, 72300.0, 72360.0, 72420.0, 72480.0, 72540.0, 72600.0, 72660.0, 72720.0, 72780.0, 72840.0, 72900.0, 72960.0, 73020.0, 73080.0, 73140.0, 73200.0, 73260.0, 73320.0, 73380.0, 73440.0, 73500.0, 73560.0, 73620.0, 73680.0, 73740.0, 73800.0, 73860.0, 73920.0, 73980.0, 74040.0, 74100.0, 74160.0, 74220.0, 74280.0, 74340.0, 74400.0, 74460.0, 74520.0, 74580.0, 74640.0, 74700.0, 74760.0, 74820.0, 74880.0, 74940.0, 75000.0, 75060.0, 75120.0, 75180.0, 75240.0, 75300.0, 75360.0, 75420.0, 75480.0, 75540.0, 75600.0, 75660.0, 75720.0, 75780.0, 75840.0, 75900.0, 75960.0, 76020.0, 76080.0, 76140.0, 76200.0, 76260.0, 76320.0, 76380.0, 76440.0, 76500.0, 76560.0, 76620.0, 76680.0, 76740.0, 76800.0, 76860.0, 76920.0, 76980.0, 77040.0, 77100.0, 77160.0, 77220.0, 77280.0, 77340.0, 77400.0, 77460.0, 77520.0, 77580.0, 77640.0, 77700.0, 77760.0, 77820.0, 77880.0, 77940.0, 78000.0, 78060.0, 78120.0, 78180.0, 78240.0, 78300.0, 78360.0, 78420.0, 78480.0, 78540.0, 78600.0, 78660.0, 78720.0, 78780.0, 78840.0, 78900.0, 78960.0, 79020.0, 79080.0, 79140.0, 79200.0, 79260.0, 79320.0, 79380.0, 79440.0, 79500.0, 79560.0, 79620.0, 79680.0, 79740.0, 79800.0, 79860.0, 79920.0, 79980.0, 80040.0, 80100.0, 80160.0, 80220.0, 80280.0, 80340.0, 80400.0, 80460.0, 80520.0, 80580.0, 80640.0, 80700.0, 80760.0, 80820.0, 80880.0, 80940.0, 81000.0, 81060.0, 81120.0, 81180.0, 81240.0, 81300.0, 81360.0, 81420.0, 81480.0, 81540.0, 81600.0, 81660.0, 81720.0, 81780.0, 81840.0, 81900.0, 81960.0, 82020.0, 82080.0, 82140.0, 82200.0, 82260.0, 82320.0, 82380.0, 82440.0, 82500.0, 82560.0, 82620.0, 82680.0, 82740.0, 82800.0, 82860.0, 82920.0, 82980.0, 83040.0, 83100.0, 83160.0, 83220.0, 83280.0, 83340.0, 83400.0, 83460.0, 83520.0, 83580.0, 83640.0, 83700.0, 83760.0, 83820.0, 83880.0, 83940.0, 84000.0, 84060.0, 84120.0, 84180.0, 84240.0, 84300.0, 84360.0, 84420.0, 84480.0, 84540.0, 84600.0, 84660.0, 84720.0, 84780.0, 84840.0, 84900.0, 84960.0, 85020.0, 85080.0, 85140.0, 85200.0, 85260.0, 85320.0, 85380.0, 85440.0, 85500.0, 85560.0, 85620.0, 85680.0, 85740.0, 85800.0, 85860.0, 85920.0, 85980.0, 86040.0, 86100.0, 86160.0, 86220.0, 86280.0, 86340.0]\n",
      "<class 'float'>\n"
     ]
    }
   ],
   "source": [
    "import datetime\n",
    "import time\n",
    "lista_tiempo = []\n",
    "list_aux = []\n",
    "today = datetime.date.fromtimestamp(time.time())\n",
    "fecha = datetime.datetime(today.year, today.month,today.day, 0, 0)\n",
    "print(fecha)\n",
    "a = datetime.datetime.timestamp(fecha)\n",
    "t = datetime.datetime.fromtimestamp(a)\n",
    "print(t)\n",
    "for x in range(1440):\n",
    "    t = fecha + datetime.timedelta(minutes=x)\n",
    "    lista_tiempo.append(t.strftime(\"%H:%M\"))\n",
    "    list_aux.append(datetime.datetime.strptime(lista_tiempo[x], \"%H:%M\"))\n",
    "print(lista_tiempo[0])\n",
    "print(type(lista_tiempo[0]))\n",
    "print(lista_tiempo[500])\n",
    "str_list_times =  [(i - datetime.datetime(1900, 1, 1)).total_seconds() for i in list_aux]\n",
    "print(str_list_times)\n",
    "print(type(str_list_times[0]))"
   ],
   "metadata": {
    "collapsed": false,
    "pycharm": {
     "name": "#%%\n"
    }
   }
  },
  {
   "cell_type": "code",
   "execution_count": 22,
   "outputs": [
    {
     "name": "stdout",
     "output_type": "stream",
     "text": [
      "Current date:  2022-06-22\n",
      "Current year: 2022\n",
      "Current month: 6\n",
      "Current day: 22\n"
     ]
    }
   ],
   "source": [
    "from datetime import date\n",
    "\n",
    "todays_date = date.today()\n",
    "\n",
    "print(\"Current date: \", todays_date)\n",
    "\n",
    "print(\"Current year:\", todays_date.year)\n",
    "print(\"Current month:\", todays_date.month)\n",
    "print(\"Current day:\", todays_date.day)"
   ],
   "metadata": {
    "collapsed": false,
    "pycharm": {
     "name": "#%%\n"
    }
   }
  },
  {
   "cell_type": "code",
   "execution_count": 7,
   "outputs": [],
   "source": [
    "from pathlib import Path\n",
    "import os\n",
    "path_Code = Path.cwd()\n",
    "path_parent = path_Code.parent\n",
    "path_Results = Path(path_parent, \"Results\")\n",
    "path_Results_aux = str(path_Results).replace(\"\\\\\",\"/\")\n",
    "path_SoC_Op = f\"{path_Results_aux}/SoC_Op.txt\"\n",
    "path_SoC_IMC = f\"{path_Results_aux}/SoC_IMC.txt\"\n",
    "\n",
    "file = open(path_SoC_Op, \"w\")\n",
    "file.write(\"Time,SoC\" + os.linesep)\n",
    "file.write(\"0,90\")\n",
    "file.close()"
   ],
   "metadata": {
    "collapsed": false,
    "pycharm": {
     "name": "#%%\n"
    }
   }
  },
  {
   "cell_type": "code",
   "execution_count": 10,
   "outputs": [],
   "source": [
    "from pathlib import Path\n",
    "import numpy as np\n",
    "path_Code = Path.cwd()\n",
    "path_parent = path_Code.parent\n",
    "path_Results = Path(path_parent, \"Results\")\n",
    "path_Results_aux = str(path_Results).replace(\"\\\\\",\"/\")\n",
    "path_SoC_Op = f\"{path_Results_aux}/SoC_Op.txt\"\n",
    "path_SoC_IMC = f\"{path_Results_aux}/SoC_IMC.txt\"\n",
    "\n",
    "list_rows = [[\"Time\", \"SoC\"],[0, 80],[1, 79],[2, 78],[3, 77],[4, 76]]\n",
    "np.savetxt(path_SoC_IMC, list_rows, delimiter =\",\",fmt ='% s')"
   ],
   "metadata": {
    "collapsed": false,
    "pycharm": {
     "name": "#%%\n"
    }
   }
  },
  {
   "cell_type": "code",
   "execution_count": 16,
   "outputs": [],
   "source": [
    "x = [i for i in range(80)]\n",
    "y = [80-i for i in range(80)]\n",
    "xy = [x,y]\n",
    "aux = list(map(list, zip(*xy)))\n",
    "aux.insert(0, [\"Time\", \"SoC\"])\n",
    "list_rows = aux\n",
    "np.savetxt(path_SoC_IMC, list_rows, delimiter =\",\",fmt ='% s')"
   ],
   "metadata": {
    "collapsed": false,
    "pycharm": {
     "name": "#%%\n"
    }
   }
  },
  {
   "cell_type": "code",
   "execution_count": 20,
   "outputs": [
    {
     "name": "stdout",
     "output_type": "stream",
     "text": [
      "['Time_Bus1', 'Time_Bus2', 'Time_Bus3', 'Time_Bus4', 'Time_Bus5', 'Time_Bus6', 'Time_Bus7', 'SoC']\n"
     ]
    }
   ],
   "source": [
    "num_buses = 7\n",
    "txt_titles = [f\"Time_Bus{j}\" for j in range(1, num_buses+1)]\n",
    "txt_titles.append(\"SoC\")\n",
    "print(txt_titles)"
   ],
   "metadata": {
    "collapsed": false,
    "pycharm": {
     "name": "#%%\n"
    }
   }
  },
  {
   "cell_type": "code",
   "execution_count": 7,
   "outputs": [
    {
     "name": "stdout",
     "output_type": "stream",
     "text": [
      "25200.0\n"
     ]
    }
   ],
   "source": [
    "import datetime\n",
    "t = datetime.datetime(2022, 6, 29, 7, 0, 0, 0)\n",
    "s = (t - datetime.datetime(2022, 6, 29, 0, 0, 0, 0)).total_seconds()\n",
    "print(s)"
   ],
   "metadata": {
    "collapsed": false,
    "pycharm": {
     "name": "#%%\n"
    }
   }
  },
  {
   "cell_type": "code",
   "execution_count": 24,
   "outputs": [
    {
     "name": "stdout",
     "output_type": "stream",
     "text": [
      "[[0. 0. 0. 1.]\n",
      " [0. 0. 0. 1.]\n",
      " [0. 0. 0. 1.]\n",
      " [0. 0. 0. 1.]]\n",
      "[['Time1' 'Time2' 'Time3' 'Time4']\n",
      " ['0.0' '0.0' '0.0' '1.0']\n",
      " ['0.0' '0.0' '0.0' '1.0']\n",
      " ['0.0' '0.0' '0.0' '1.0']\n",
      " ['0.0' '0.0' '0.0' '1.0']]\n"
     ]
    }
   ],
   "source": [
    "import numpy as np\n",
    "array_1 = np.zeros((4,3))\n",
    "#print(array_1)\n",
    "array_2 = np.ones((4,1))\n",
    "#print(array_2)\n",
    "array_3 = np.concatenate((array_1, array_2), axis=1)\n",
    "print(array_3)\n",
    "\n",
    "array_4 = np.concatenate(([[\"Time1\", \"Time2\", \"Time3\", \"Time4\"]], array_3), axis=0)\n",
    "print(array_4)\n"
   ],
   "metadata": {
    "collapsed": false,
    "pycharm": {
     "name": "#%%\n"
    }
   }
  }
 ],
 "metadata": {
  "kernelspec": {
   "display_name": "Python 3",
   "language": "python",
   "name": "python3"
  },
  "language_info": {
   "codemirror_mode": {
    "name": "ipython",
    "version": 2
   },
   "file_extension": ".py",
   "mimetype": "text/x-python",
   "name": "python",
   "nbconvert_exporter": "python",
   "pygments_lexer": "ipython2",
   "version": "2.7.6"
  }
 },
 "nbformat": 4,
 "nbformat_minor": 0
}